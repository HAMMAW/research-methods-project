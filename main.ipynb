{
 "cells": [
  {
   "attachments": {},
   "cell_type": "markdown",
   "metadata": {},
   "source": [
    "# Extracting image data from threshold segmented image\n",
    "This notebook is just an example of the proof concept of how the threshold segmentation algorithm and an image histogram can be used to extract image data of dark formations in the ocean.\n",
    "\n",
    "references:\n",
    "- https://towardsdatascience.com/how-to-perform-image-segmentation-with-thresholding-using-opencv-b2a78abb07ac\n",
    "- https://datatofish.com/plot-histogram-python/\n",
    "- https://stackoverflow.com/questions/28981417/how-do-i-access-the-pixels-of-an-image-using-opencv-python"
   ]
  },
  {
   "attachments": {},
   "cell_type": "markdown",
   "metadata": {},
   "source": [
    "### Step 1: Importing modules\n",
    "There are two modules that we will import:\n",
    "- `cv2`, will be used to for the threshold segmentation algorithm.\n",
    "- `matplotlib`, will be used for the histogram."
   ]
  },
  {
   "cell_type": "code",
   "execution_count": 46,
   "metadata": {},
   "outputs": [],
   "source": [
    "import cv2\n",
    "import matplotlib.pyplot as plt"
   ]
  },
  {
   "attachments": {},
   "cell_type": "markdown",
   "metadata": {},
   "source": [
    "### Step 2: Get image to be used\n",
    "\n",
    "![Deep Water Horizon Oil Spill](deep_water_horizon_oil_spill.jpg)"
   ]
  },
  {
   "cell_type": "code",
   "execution_count": 3,
   "metadata": {},
   "outputs": [],
   "source": [
    "image = cv2.imread(\"deep_water_horizon_oil_spill.jpg\")"
   ]
  },
  {
   "attachments": {},
   "cell_type": "markdown",
   "metadata": {},
   "source": [
    "### Step 3: Convert color space of image\n",
    "Here, we convert the image color space from RGB to Grayscale, so that the segmentation process is not as complicated.\n",
    "We will use `cvtColor(image, color space conversion method)`\n",
    "- `image`: image to be converted.\n",
    "- `color space conversion method`: color space conversion method is used to convert the image into a grayscale image."
   ]
  },
  {
   "cell_type": "code",
   "execution_count": 4,
   "metadata": {},
   "outputs": [],
   "source": [
    "gray = cv2.cvtColor(image, cv2.COLOR_BGR2GRAY)"
   ]
  },
  {
   "attachments": {},
   "cell_type": "markdown",
   "metadata": {},
   "source": [
    "### Step 4: Segmentation of image\n",
    "\n",
    "The segmentation is done using `threshold(image, threshold value, color range, threshold method)`\n",
    "- `image`: image to be segmented.\n",
    "- `threshold value`: threshold value tells the algorithm where to segment the image based on the color values of each pixel. If a pixel is below the value, it will be colored differently than a pixel above the value.\n",
    "- `color range`: color range is between 0 and 255, 0 being the dimmest which will result in the image being black, and 255 being the brightest, which will set the color of each pixel to have its alpha value at a maximum.\n",
    "- `threshold method`: threshold method tells the algorithm to segment the image into $x$ number of colors."
   ]
  },
  {
   "cell_type": "code",
   "execution_count": 5,
   "metadata": {},
   "outputs": [],
   "source": [
    "(T, thresh) = cv2.threshold(gray, 85, 255,cv2.THRESH_BINARY)"
   ]
  },
  {
   "attachments": {},
   "cell_type": "markdown",
   "metadata": {},
   "source": [
    "### Step 5: Save segmented image into directory\n",
    "\n",
    "![](dwhos_t_85.jpg)"
   ]
  },
  {
   "cell_type": "code",
   "execution_count": 6,
   "metadata": {},
   "outputs": [
    {
     "data": {
      "text/plain": [
       "True"
      ]
     },
     "execution_count": 6,
     "metadata": {},
     "output_type": "execute_result"
    }
   ],
   "source": [
    "cv2.imwrite('dwhos_t_85.jpg', thresh)"
   ]
  },
  {
   "attachments": {},
   "cell_type": "markdown",
   "metadata": {},
   "source": [
    "### Step 6: Get segmented image"
   ]
  },
  {
   "cell_type": "code",
   "execution_count": 7,
   "metadata": {},
   "outputs": [],
   "source": [
    "segmentedImage = cv2.imread(\"dwhos_t_85.jpg\")"
   ]
  },
  {
   "attachments": {},
   "cell_type": "markdown",
   "metadata": {},
   "source": [
    "### Step 7: Get segmented image pixel color values\n",
    "Getting the pixels' color value using `(rows, columns, _) = image.shape`.\n",
    "\n",
    "Then iterate through the image using a for loop, by row. And plot each pixel into a histogram"
   ]
  },
  {
   "cell_type": "code",
   "execution_count": null,
   "metadata": {},
   "outputs": [],
   "source": [
    "(rows, columns, _) = segmentedImage.shape\n",
    "\n",
    "pixelCount = 0\n",
    "pixels = [[], []]\n",
    "for row in range(rows):\n",
    "    for column in range(columns):\n",
    "        pixels[0].append(segmentedImage[row, column][0])\n",
    "        pixels[1].append(pixelCount)\n",
    "        pixelCount += 1"
   ]
  },
  {
   "attachments": {},
   "cell_type": "markdown",
   "metadata": {},
   "source": [
    "### Step 8: Get histogram (barchart)\n",
    "![](histogram.png)"
   ]
  },
  {
   "cell_type": "code",
   "execution_count": null,
   "metadata": {},
   "outputs": [],
   "source": [
    "# WARNING: this code is not optimized at all, so if you want to spend a few minutes running the code, by all means, be my guest\n",
    "\n",
    "plt.bar(pixels[1], pixels[0])\n",
    "plt.show()"
   ]
  }
 ],
 "metadata": {
  "kernelspec": {
   "display_name": "Python 3",
   "language": "python",
   "name": "python3"
  },
  "language_info": {
   "codemirror_mode": {
    "name": "ipython",
    "version": 3
   },
   "file_extension": ".py",
   "mimetype": "text/x-python",
   "name": "python",
   "nbconvert_exporter": "python",
   "pygments_lexer": "ipython3",
   "version": "3.11.3"
  },
  "orig_nbformat": 4
 },
 "nbformat": 4,
 "nbformat_minor": 2
}
